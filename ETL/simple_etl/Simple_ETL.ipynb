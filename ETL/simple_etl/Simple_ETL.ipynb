{
 "cells": [
  {
   "cell_type": "code",
   "execution_count": 3,
   "id": "bfbf2943",
   "metadata": {},
   "outputs": [],
   "source": [
    "\"\"\" Simple Python ETL Pipeline example \"\"\"\n",
    "import pandas as pd\n",
    "import requests\n",
    "from sqlalchemy import create_engine"
   ]
  },
  {
   "cell_type": "code",
   "execution_count": 7,
   "id": "b0ab130e",
   "metadata": {},
   "outputs": [],
   "source": [
    "def extract():\n",
    "    \"\"\" \n",
    "    This API extracts data from: http://universities.hipolabs.com\n",
    "    \"\"\"\n",
    "    API_URL = \"http://universities.hipolabs.com/search?country=United+States\"\n",
    "    data = requests.get(API_URL).json()\n",
    "    return data \n",
    "\n",
    "def transform(data:dict) -> pd.DataFrame:\n",
    "    \"\"\" Transforms the data into the desired structure and filters \"\"\"\n",
    "    df = pd.DataFrame(data)\n",
    "    print(f\"The total number of Universities in this API are: {len(data)}\")\n",
    "    df = df[df[\"name\"].str.contains(\"Cloud\")]\n",
    "    print(f\"The number of Universities in Minnesota: {len(df)}\")\n",
    "    df['domains'] = [','.join(map(str,l)) for l in df['domains']]\n",
    "    df['web_pages'] = [','.join(map(str,l)) for l in df['web_pages']]\n",
    "    df = df.reset_index(drop=True)\n",
    "    return df[[\"domains\",\"country\",\"web_pages\",\"name\"]]\n",
    "\n",
    "def load(df:pd.DataFrame)-> None:\n",
    "    \"\"\" Loads data into an sqlite data base \"\"\"\n",
    "    disk_engine = create_engine('sqlite:///my_lite_store.db')\n",
    "    df.to_sql('mn_uni',disk_engine,if_exists='replace')\n"
   ]
  },
  {
   "cell_type": "code",
   "execution_count": 8,
   "id": "2df941aa",
   "metadata": {},
   "outputs": [
    {
     "name": "stdout",
     "output_type": "stream",
     "text": [
      "The total number of Universities in this API are: 2308\n",
      "The number of Universities in Minnesota: 3\n"
     ]
    }
   ],
   "source": [
    "data = extract()\n",
    "df = transform(data)\n",
    "load(df) "
   ]
  },
  {
   "cell_type": "code",
   "execution_count": 9,
   "id": "b74d7765",
   "metadata": {},
   "outputs": [
    {
     "data": {
      "text/html": [
       "<div>\n",
       "<style scoped>\n",
       "    .dataframe tbody tr th:only-of-type {\n",
       "        vertical-align: middle;\n",
       "    }\n",
       "\n",
       "    .dataframe tbody tr th {\n",
       "        vertical-align: top;\n",
       "    }\n",
       "\n",
       "    .dataframe thead th {\n",
       "        text-align: right;\n",
       "    }\n",
       "</style>\n",
       "<table border=\"1\" class=\"dataframe\">\n",
       "  <thead>\n",
       "    <tr style=\"text-align: right;\">\n",
       "      <th></th>\n",
       "      <th>domains</th>\n",
       "      <th>country</th>\n",
       "      <th>web_pages</th>\n",
       "      <th>name</th>\n",
       "    </tr>\n",
       "  </thead>\n",
       "  <tbody>\n",
       "    <tr>\n",
       "      <th>0</th>\n",
       "      <td>stcloudstate.edu</td>\n",
       "      <td>United States</td>\n",
       "      <td>http://www.stcloudstate.edu/</td>\n",
       "      <td>Saint Cloud State University</td>\n",
       "    </tr>\n",
       "    <tr>\n",
       "      <th>1</th>\n",
       "      <td>cloud.edu</td>\n",
       "      <td>United States</td>\n",
       "      <td>http://www.cloud.edu</td>\n",
       "      <td>Cloud County Community College</td>\n",
       "    </tr>\n",
       "    <tr>\n",
       "      <th>2</th>\n",
       "      <td>sctcc.edu</td>\n",
       "      <td>United States</td>\n",
       "      <td>http://www.sctcc.edu</td>\n",
       "      <td>St Cloud Technical and Community College</td>\n",
       "    </tr>\n",
       "  </tbody>\n",
       "</table>\n",
       "</div>"
      ],
      "text/plain": [
       "            domains        country                     web_pages  \\\n",
       "0  stcloudstate.edu  United States  http://www.stcloudstate.edu/   \n",
       "1         cloud.edu  United States          http://www.cloud.edu   \n",
       "2         sctcc.edu  United States          http://www.sctcc.edu   \n",
       "\n",
       "                                       name  \n",
       "0              Saint Cloud State University  \n",
       "1            Cloud County Community College  \n",
       "2  St Cloud Technical and Community College  "
      ]
     },
     "execution_count": 9,
     "metadata": {},
     "output_type": "execute_result"
    }
   ],
   "source": [
    "df"
   ]
  },
  {
   "cell_type": "code",
   "execution_count": null,
   "id": "3b01c0ec",
   "metadata": {},
   "outputs": [],
   "source": []
  }
 ],
 "metadata": {
  "kernelspec": {
   "display_name": "Python 3 (ipykernel)",
   "language": "python",
   "name": "python3"
  },
  "language_info": {
   "codemirror_mode": {
    "name": "ipython",
    "version": 3
   },
   "file_extension": ".py",
   "mimetype": "text/x-python",
   "name": "python",
   "nbconvert_exporter": "python",
   "pygments_lexer": "ipython3",
   "version": "3.11.4"
  }
 },
 "nbformat": 4,
 "nbformat_minor": 5
}
